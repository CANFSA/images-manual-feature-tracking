{
 "cells": [
  {
   "cell_type": "markdown",
   "metadata": {},
   "source": [
    "# manual-tracking-and-saving.ipynb"
   ]
  },
  {
   "cell_type": "markdown",
   "metadata": {},
   "source": [
    "This notebook is for manually tracking features in a sequence of images using   the Python package [napari](https://napari.org/). Installation instructions available [here](https://napari.org/#installation)."
   ]
  },
  {
   "cell_type": "markdown",
   "metadata": {},
   "source": [
    "## Import packages"
   ]
  },
  {
   "cell_type": "code",
   "execution_count": 3,
   "metadata": {},
   "outputs": [],
   "source": [
    "# Third-party imports\n",
    "import napari\n",
    "import numpy as np\n",
    "# Local imports\n",
    "import helpers"
   ]
  },
  {
   "cell_type": "markdown",
   "metadata": {},
   "source": [
    "## Open napari window"
   ]
  },
  {
   "cell_type": "code",
   "execution_count": 4,
   "metadata": {},
   "outputs": [],
   "source": [
    "viewer = napari.Viewer()"
   ]
  },
  {
   "cell_type": "markdown",
   "metadata": {},
   "source": [
    "## Load images"
   ]
  },
  {
   "cell_type": "code",
   "execution_count": 51,
   "metadata": {},
   "outputs": [
    {
     "name": "stdout",
     "output_type": "stream",
     "text": [
      "612 image(s) loaded.\n"
     ]
    },
    {
     "data": {
      "text/plain": [
       "<Image layer '36_Shot7' at 0x22ed10b9c70>"
      ]
     },
     "execution_count": 51,
     "metadata": {},
     "output_type": "execute_result"
    }
   ],
   "source": [
    "shot = 7\n",
    "exp_name = f'36_Shot{shot}'\n",
    "img_nums, imgs = helpers.load_images(\n",
    "    fr'C:\\Users\\cgusb\\Research\\aps-am-simulator\\data\\2020'\n",
    "    fr'\\Sample36_Shot{shot}_IN738_{shot}0pct_1ms_8.75us_80kfps_C001H001S0001', \n",
    ")\n",
    "print(f'{len(imgs)} image(s) loaded.')\n",
    "# print(f'Image numbers: {img_nums}')\n",
    "viewer.add_image(imgs, name=exp_name)\n",
    "# napari.utils.nbscreenshot(viewer, canvas_only=True)"
   ]
  },
  {
   "cell_type": "markdown",
   "metadata": {},
   "source": [
    "## Process images"
   ]
  },
  {
   "cell_type": "code",
   "execution_count": 52,
   "metadata": {},
   "outputs": [],
   "source": [
    "processed_dict = {}\n",
    "for process in ['sub_pre', 'sub_first', 'div_by_pre', 'div_by_first']:\n",
    "    processed_dict[process] = helpers.process_images(imgs, method=process)\n",
    "    viewer.add_image(processed_dict[process], name=process)\n",
    "# napari.utils.nbscreenshot(viewer, canvas_only=False)"
   ]
  },
  {
   "cell_type": "markdown",
   "metadata": {},
   "source": [
    "## Manual tracking"
   ]
  },
  {
   "cell_type": "markdown",
   "metadata": {},
   "source": [
    "1. Run the cell below to add a new points layer, or click the 'New points layer' button (icon looks like 6 dots) at the top left of the 'layer list' section of the napari viewer window. **Note:** When adding points from a Jupyter Notebook, the ndim keyword argument must be equal to the amount of the image stack you'd like to annotate. If not included, points will be overlaid across the entire image stack.\n",
    "2. With the new Points layer selected, click the 'Add points' button (icon looks like a circle with a plus sign in the center) at the top of the 'layer controls' section of the napari viewer window.\n",
    "3. Select as many points as necessary on the feature you'd like to analyze on the first slice of the image stack.\n",
    "4. Click the next arrow or move the slider to move to the next image you'd like to annotate.\n",
    "5. Repeat as necessary."
   ]
  },
  {
   "cell_type": "code",
   "execution_count": 53,
   "metadata": {},
   "outputs": [
    {
     "data": {
      "text/plain": [
       "<Points layer '36_Shot7-pts-gus' at 0x22ed5b147f0>"
      ]
     },
     "execution_count": 53,
     "metadata": {},
     "output_type": "execute_result"
    }
   ],
   "source": [
    "pts_layer_name = f'{exp_name}-pts-gus'\n",
    "viewer.add_points(ndim=3, size=2, name=pts_layer_name)\n",
    "# napari.utils.nbscreenshot(viewer, canvas_only=False)"
   ]
  },
  {
   "cell_type": "markdown",
   "metadata": {},
   "source": [
    "## Save points to CSV"
   ]
  },
  {
   "cell_type": "code",
   "execution_count": 56,
   "metadata": {},
   "outputs": [
    {
     "name": "stdout",
     "output_type": "stream",
     "text": [
      "CSV saved: C:\\Users\\cgusb\\Research\\manual-feature-tracking\\points\\36_Shot7-pts-gus.csv\n"
     ]
    }
   ],
   "source": [
    "run_this_cell = False\n",
    "if run_this_cell:\n",
    "    helpers.save_points(viewer, pts_layer_name, save_dir_path='points')"
   ]
  },
  {
   "cell_type": "markdown",
   "metadata": {},
   "source": [
    "## Load CSV as Points layer"
   ]
  },
  {
   "cell_type": "code",
   "execution_count": 55,
   "metadata": {},
   "outputs": [],
   "source": [
    "run_this_cell = False\n",
    "if run_this_cell:\n",
    "    pts_name, pts_data = helpers.load_points(f'{pts_layer_name}.csv')\n",
    "    viewer.add_points(\n",
    "        pts_data,\n",
    "        ndim=3,\n",
    "        size=2,\n",
    "        name=pts_name\n",
    "    )"
   ]
  }
 ],
 "metadata": {
  "kernelspec": {
   "display_name": "napari-env",
   "language": "python",
   "name": "python3"
  },
  "language_info": {
   "codemirror_mode": {
    "name": "ipython",
    "version": 3
   },
   "file_extension": ".py",
   "mimetype": "text/x-python",
   "name": "python",
   "nbconvert_exporter": "python",
   "pygments_lexer": "ipython3",
   "version": "3.9.5 (tags/v3.9.5:0a7dcbd, May  3 2021, 17:27:52) [MSC v.1928 64 bit (AMD64)]"
  },
  "orig_nbformat": 4,
  "vscode": {
   "interpreter": {
    "hash": "3c41d41f3d36fd385a14502755cac50397031560266a576f36333e8ea386c7f1"
   }
  }
 },
 "nbformat": 4,
 "nbformat_minor": 2
}
