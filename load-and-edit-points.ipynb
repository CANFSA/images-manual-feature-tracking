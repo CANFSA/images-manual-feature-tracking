{
 "cells": [
  {
   "cell_type": "markdown",
   "metadata": {},
   "source": [
    "# load-and-edit-points.ipynb"
   ]
  },
  {
   "cell_type": "markdown",
   "metadata": {},
   "source": [
    "This notebook is used to load a CSV containing coordinates of points (slice, row, column) and add them to napari as a Points layer. This will allow the points to be edited and saved again to a CSV file."
   ]
  },
  {
   "cell_type": "markdown",
   "metadata": {},
   "source": [
    "## Import packages"
   ]
  },
  {
   "cell_type": "code",
   "execution_count": 1,
   "metadata": {},
   "outputs": [],
   "source": [
    "# Standard library imports\n",
    "from pathlib import Path\n",
    "# Third-party imports\n",
    "import napari\n",
    "import numpy as np\n",
    "import pandas as pd\n",
    "# Local imports\n",
    "import helpers"
   ]
  },
  {
   "cell_type": "markdown",
   "metadata": {},
   "source": [
    "# Load images"
   ]
  },
  {
   "cell_type": "markdown",
   "metadata": {},
   "source": [
    "## Open napari viewer window"
   ]
  },
  {
   "cell_type": "code",
   "execution_count": 2,
   "metadata": {},
   "outputs": [],
   "source": [
    "viewer = napari.Viewer()"
   ]
  },
  {
   "cell_type": "code",
   "execution_count": 3,
   "metadata": {},
   "outputs": [
    {
     "name": "stdout",
     "output_type": "stream",
     "text": [
      "612 image(s) loaded.\n"
     ]
    },
    {
     "data": {
      "text/plain": [
       "<Image layer 'imgs' at 0x24ff6271280>"
      ]
     },
     "execution_count": 3,
     "metadata": {},
     "output_type": "execute_result"
    }
   ],
   "source": [
    "shot = 7\n",
    "exp_name = f'36_Shot{shot}'\n",
    "img_nums, imgs = helpers.load_images(\n",
    "    fr'C:\\Users\\cgusb\\Research\\aps-am-simulator\\data\\2020'\n",
    "    fr'\\Sample36_Shot{shot}_IN738_{shot}0pct_1ms_8.75us_80kfps_C001H001S0001', \n",
    ")\n",
    "print(f'{len(imgs)} image(s) loaded.')\n",
    "# print(f'Image numbers: {img_nums}')\n",
    "viewer.add_image(imgs)\n",
    "# napari.utils.nbscreenshot(viewer, canvas_only=True)"
   ]
  },
  {
   "cell_type": "markdown",
   "metadata": {},
   "source": [
    "## Load CSVs as Points layer"
   ]
  },
  {
   "cell_type": "code",
   "execution_count": null,
   "metadata": {},
   "outputs": [],
   "source": [
    "csv_dir = Path('points/2022-04-14')\n",
    "color_dict = {\n",
    "    'gus' : 'green',\n",
    "    'brian' : 'blue',\n",
    "    'adriana' : 'red',\n",
    "}\n",
    "csv_paths = [path for path in csv_dir.glob('*.csv')]\n",
    "for csv_path in csv_paths:\n",
    "    layer_name, pts_data = helpers.load_points(csv_path)\n",
    "    color = color_dict[layer_name[layer_name.rfind('-') + 1 :]]\n",
    "    viewer.add_points(\n",
    "        pts_data,\n",
    "        ndim=3,\n",
    "        size=2,\n",
    "        name=layer_name,\n",
    "        edge_color=color,\n",
    "    )"
   ]
  },
  {
   "cell_type": "markdown",
   "metadata": {},
   "source": [
    "## Save edited Points layer as CSV"
   ]
  },
  {
   "cell_type": "code",
   "execution_count": 15,
   "metadata": {},
   "outputs": [],
   "source": [
    "run_this_cell = False\n",
    "if run_this_cell:\n",
    "    helpers.save_points(viewer, layer_name, csv_name=f'{layer_name}-edited')"
   ]
  }
 ],
 "metadata": {
  "interpreter": {
   "hash": "2f9fcb20087b7af2829bf0abbacbe7806b917b04bec25a5e9393fe507dcd2d8e"
  },
  "kernelspec": {
   "display_name": "Python 3.9.5 64-bit (system)",
   "language": "python",
   "name": "python3"
  },
  "language_info": {
   "codemirror_mode": {
    "name": "ipython",
    "version": 3
   },
   "file_extension": ".py",
   "mimetype": "text/x-python",
   "name": "python",
   "nbconvert_exporter": "python",
   "pygments_lexer": "ipython3",
   "version": "3.9.5"
  },
  "orig_nbformat": 4
 },
 "nbformat": 4,
 "nbformat_minor": 2
}
